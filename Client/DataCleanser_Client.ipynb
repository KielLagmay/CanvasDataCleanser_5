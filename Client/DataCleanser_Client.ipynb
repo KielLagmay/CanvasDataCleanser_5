{
 "cells": [
  {
   "cell_type": "code",
   "execution_count": null,
   "metadata": {},
   "outputs": [],
   "source": [
    "'''\n",
    "Sources:\n",
    "https://pyro4.readthedocs.io/en/stable/tutorials.html\n",
    "https://stackoverflow.com/questions/3207219/how-do-i-list-all-files-of-a-directory\n",
    "https://stackoverflow.com/questions/13411544/delete-column-from-pandas-dataframe\n",
    "https://stackoverflow.com/questions/33742588/pandas-split-dataframe-by-column-value\n",
    "https://stackoverflow.com/questions/45759966/counting-unique-values-in-a-column-in-pandas-dataframe-like-in-qlik/45760042\n",
    "https://chrisalbon.com/python/data_wrangling/pandas_list_unique_values_in_column/\n",
    "https://pandas.pydata.org/pandas-docs/stable/reference/api/pandas.DataFrame.to_csv.html\n",
    "https://www.guru99.com/python-check-if-file-exists.html\n",
    "https://pandas.pydata.org/pandas-docs/stable/reference/api/pandas.read_csv.html\n",
    "'''"
   ]
  },
  {
   "cell_type": "code",
   "execution_count": null,
   "metadata": {},
   "outputs": [],
   "source": [
    "from DataAccessor import DataAccessor\n",
    "from Pyro5.api import locate_ns\n",
    "from Pyro5.client import Proxy\n",
    "from Pyro5.errors import excepthook as pyro5_excepthook\n",
    "import sys\n",
    "import threading\n",
    "from concurrent.futures import ThreadPoolExecutor\n",
    "import multiprocessing as mp\n",
    "import socket"
   ]
  },
  {
   "cell_type": "code",
   "execution_count": null,
   "metadata": {},
   "outputs": [],
   "source": [
    "def find_datawarehouse():\n",
    "    nameserver = locate_ns()\n",
    "    datawarehouse_uri = nameserver.lookup(\"example.datawarehouse\")\n",
    "    return Proxy(datawarehouse_uri)\n",
    "\n",
    "if __name__ ==  '__main__':\n",
    "    sys.excepthook = pyro5_excepthook\n",
    "    \n",
    "    datawarehouse = None\n",
    "    connectionRefused = True\n",
    "    while(connectionRefused):\n",
    "        try:\n",
    "            datawarehouse = find_datawarehouse()\n",
    "            connectionRefused = False\n",
    "        except:\n",
    "            connectionRefused = True\n",
    "    \n",
    "    dataaccessor = DataAccessor(datawarehouse)\n",
    "    \n",
    "    workers = [str(socket.gethostname()) + \"_\" + str(i + 1) for i in range(0, mp.cpu_count())]\n",
    "    \n",
    "    pool = mp.Pool(mp.cpu_count())\n",
    "    execSummary = pool.map(dataaccessor.performDataCleansing, workers)\n",
    "    pool.close()\n",
    "    \n",
    "    print(str(execSummary))"
   ]
  }
 ],
 "metadata": {
  "kernelspec": {
   "display_name": "Python 3 (ipykernel)",
   "language": "python",
   "name": "python3"
  },
  "language_info": {
   "codemirror_mode": {
    "name": "ipython",
    "version": 3
   },
   "file_extension": ".py",
   "mimetype": "text/x-python",
   "name": "python",
   "nbconvert_exporter": "python",
   "pygments_lexer": "ipython3",
   "version": "3.9.13"
  }
 },
 "nbformat": 4,
 "nbformat_minor": 4
}
