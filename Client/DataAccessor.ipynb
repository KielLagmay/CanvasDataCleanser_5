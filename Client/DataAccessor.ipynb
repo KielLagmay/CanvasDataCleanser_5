{
 "cells": [
  {
   "cell_type": "code",
   "execution_count": 1,
   "metadata": {},
   "outputs": [
    {
     "data": {
      "text/plain": [
       "'\\nSources:\\nhttps://pyro4.readthedocs.io/en/stable/tutorials.html\\nhttps://stackoverflow.com/questions/3207219/how-do-i-list-all-files-of-a-directory\\nhttps://stackoverflow.com/questions/49153835/transfer-files-with-python-2-7-pyro4-unicodeencodeerror\\nhttps://www.tutorialspoint.com/synchronizing-threads-in-python#:~:text=The%20threading%20module%20provided%20with,force%20threads%20to%20run%20synchronously.\\n'"
      ]
     },
     "execution_count": 1,
     "metadata": {},
     "output_type": "execute_result"
    }
   ],
   "source": [
    "'''\n",
    "Sources:\n",
    "https://pyro4.readthedocs.io/en/stable/tutorials.html\n",
    "https://stackoverflow.com/questions/3207219/how-do-i-list-all-files-of-a-directory\n",
    "https://stackoverflow.com/questions/49153835/transfer-files-with-python-2-7-pyro4-unicodeencodeerror\n",
    "https://www.tutorialspoint.com/synchronizing-threads-in-python#:~:text=The%20threading%20module%20provided%20with,force%20threads%20to%20run%20synchronously.\n",
    "'''"
   ]
  },
  {
   "cell_type": "code",
   "execution_count": 2,
   "metadata": {},
   "outputs": [],
   "source": [
    "import pandas as pd\n",
    "import time"
   ]
  },
  {
   "cell_type": "code",
   "execution_count": 1,
   "metadata": {},
   "outputs": [],
   "source": [
    "class DataAccessor(object):\n",
    "    def __init__(self, datawarehouse):\n",
    "        self.datawarehouse = datawarehouse\n",
    "        \n",
    "    def performDataCleansing(self, workerId):\n",
    "        processedItems = []\n",
    "        item = self.datawarehouse.removeItem()\n",
    "        #print(item)\n",
    "        while(item != None):\n",
    "            self.datawarehouse.cleanseData(item)\n",
    "            processedItems.append(item)\n",
    "            time.sleep(1)\n",
    "            item = self.datawarehouse.removeItem()\n",
    "        return ({workerId: processedItems})"
   ]
  }
 ],
 "metadata": {
  "kernelspec": {
   "display_name": "Python 3",
   "language": "python",
   "name": "python3"
  },
  "language_info": {
   "codemirror_mode": {
    "name": "ipython",
    "version": 3
   },
   "file_extension": ".py",
   "mimetype": "text/x-python",
   "name": "python",
   "nbconvert_exporter": "python",
   "pygments_lexer": "ipython3",
   "version": "3.8.5"
  }
 },
 "nbformat": 4,
 "nbformat_minor": 4
}
