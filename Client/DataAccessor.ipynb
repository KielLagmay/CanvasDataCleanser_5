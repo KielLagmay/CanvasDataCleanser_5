{
 "cells": [
  {
   "cell_type": "code",
   "execution_count": null,
   "metadata": {},
   "outputs": [],
   "source": [
    "'''\n",
    "Sources:\n",
    "https://pyro4.readthedocs.io/en/stable/tutorials.html\n",
    "https://stackoverflow.com/questions/3207219/how-do-i-list-all-files-of-a-directory\n",
    "https://stackoverflow.com/questions/49153835/transfer-files-with-python-2-7-pyro4-unicodeencodeerror\n",
    "https://www.tutorialspoint.com/synchronizing-threads-in-python#:~:text=The%20threading%20module%20provided%20with,force%20threads%20to%20run%20synchronously.\n",
    "'''"
   ]
  },
  {
   "cell_type": "code",
   "execution_count": null,
   "metadata": {},
   "outputs": [],
   "source": [
    "import pandas as pd\n",
    "import time"
   ]
  },
  {
   "cell_type": "code",
   "execution_count": null,
   "metadata": {},
   "outputs": [],
   "source": [
    "class DataAccessor(object):\n",
    "    def __init__(self, datawarehouse):\n",
    "        self.datawarehouse = datawarehouse\n",
    "        \n",
    "    def performDataCleansing(self, workerId):\n",
    "        processedItems = []\n",
    "        item = self.datawarehouse.removeItem()\n",
    "        #print(item)\n",
    "        while(item != None):\n",
    "            self.datawarehouse.cleanseData(item)\n",
    "            processedItems.append(item)\n",
    "            time.sleep(1)\n",
    "            item = self.datawarehouse.removeItem()\n",
    "        return ({workerId: processedItems})"
   ]
  }
 ],
 "metadata": {
  "kernelspec": {
   "display_name": "Python 3 (ipykernel)",
   "language": "python",
   "name": "python3"
  },
  "language_info": {
   "codemirror_mode": {
    "name": "ipython",
    "version": 3
   },
   "file_extension": ".py",
   "mimetype": "text/x-python",
   "name": "python",
   "nbconvert_exporter": "python",
   "pygments_lexer": "ipython3",
   "version": "3.9.13"
  }
 },
 "nbformat": 4,
 "nbformat_minor": 4
}
