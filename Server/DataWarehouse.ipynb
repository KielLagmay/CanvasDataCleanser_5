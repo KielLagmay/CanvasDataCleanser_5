{
 "cells": [
  {
   "cell_type": "code",
   "execution_count": 1,
   "metadata": {},
   "outputs": [],
   "source": [
    "from Pyro5.api import expose, Daemon, locate_ns\n",
    "from os import listdir\n",
    "import threading\n",
    "import pandas as pd\n",
    "from os import path\n",
    "import netifaces\n",
    "import glob\n",
    "from DirectoryGenerator import DirectoryGenerator"
   ]
  },
  {
   "cell_type": "code",
   "execution_count": null,
   "metadata": {},
   "outputs": [],
   "source": [
    "class ClientManager(Daemon):\n",
    "    def __init__(this, host, port):\n",
    "        super().__init__(host, port)\n",
    "        this.numberOfClients = 0\n",
    "        \n",
    "    def validateHandshake(this, conn, data):\n",
    "        this.numberOfClients = this.numberOfClients + 1\n",
    "        #print(this.numberOfClients)\n",
    "    \n",
    "    def clientDisconnect(this, conn):\n",
    "        this.numberOfClients = this.numberOfClients - 1\n",
    "        #print(this.numberOfClients)\n",
    "        if(this.numberOfClients == 0):\n",
    "            this.close()"
   ]
  },
  {
   "cell_type": "code",
   "execution_count": null,
   "metadata": {},
   "outputs": [],
   "source": [
    "class csvWriter:\n",
    "    def __init__(this, fileName):\n",
    "        this.fileName = fileName\n",
    "        this.headerNotWritten = True\n",
    "    \n",
    "    def appendData(this, data):\n",
    "        def checkHeader(lock):\n",
    "            lock.acquire()\n",
    "            res = this.headerNotWritten\n",
    "            this.headerNotWritten = False\n",
    "            lock.release()\n",
    "            return res\n",
    "        \n",
    "        data.to_csv(this.fileName, mode = 'a', header = checkHeader(threading.Lock()), index = False)"
   ]
  },
  {
   "cell_type": "code",
   "execution_count": 2,
   "metadata": {},
   "outputs": [],
   "source": [
    "@expose\n",
    "class DataWarehouse(object):\n",
    "    def __init__(self, dirpath, outfile, dataCleanFunc):\n",
    "        dirGen = DirectoryGenerator()\n",
    "        self.dirpath = dirpath\n",
    "        self.contents = glob.glob(dirpath + dirGen.getDelimiter() + '**' + dirGen.getDelimiter() + '*.jsonl', recursive=True)\n",
    "        self.outfileWriter = csvWriter(outfile + '.csv')\n",
    "        self.dataCleanFunc = dataCleanFunc\n",
    "\n",
    "    def removeItem(self):\n",
    "        def removeItemProper(lock):\n",
    "            lock.acquire()\n",
    "            item = None\n",
    "            try:\n",
    "                item = self.contents.pop()\n",
    "            except(IndexError):\n",
    "                item = None\n",
    "            lock.release()\n",
    "            return item\n",
    "        \n",
    "        return removeItemProper(threading.Lock())\n",
    "    \n",
    "    def cleanseData(self, item):\n",
    "        result = self.dataCleanFunc(item)\n",
    "        self.outfileWriter.appendData(result)"
   ]
  },
  {
   "cell_type": "code",
   "execution_count": 3,
   "metadata": {},
   "outputs": [],
   "source": [
    "def openDataWarehouse(dirpath, outfile, dataCleanFunc):\n",
    "    def getWiFiIPAdd():\n",
    "        iface = netifaces.gateways()['default'][netifaces.AF_INET][1]\n",
    "        ipadd = netifaces.ifaddresses(iface)[netifaces.AF_INET][0]['addr']\n",
    "        return ipadd\n",
    "    \n",
    "    datawarehouse = DataWarehouse(dirpath, outfile, dataCleanFunc)\n",
    "    HOST_IP = getWiFiIPAdd()\n",
    "    HOST_PORT = 9092\n",
    "    with ClientManager(host=HOST_IP, port=HOST_PORT) as daemon:\n",
    "        datawarehouse_uri = daemon.register(datawarehouse)\n",
    "        with locate_ns() as ns:\n",
    "            ns.register(\"example.datawarehouse\", datawarehouse_uri)\n",
    "        daemon.requestLoop()"
   ]
  }
 ],
 "metadata": {
  "kernelspec": {
   "display_name": "Python 3",
   "language": "python",
   "name": "python3"
  },
  "language_info": {
   "codemirror_mode": {
    "name": "ipython",
    "version": 3
   },
   "file_extension": ".py",
   "mimetype": "text/x-python",
   "name": "python",
   "nbconvert_exporter": "python",
   "pygments_lexer": "ipython3",
   "version": "3.8.8"
  }
 },
 "nbformat": 4,
 "nbformat_minor": 4
}
