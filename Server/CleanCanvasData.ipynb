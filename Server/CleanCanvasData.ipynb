{
 "cells": [
  {
   "cell_type": "code",
   "execution_count": null,
   "metadata": {},
   "outputs": [],
   "source": [
    "import json\n",
    "import jsonlines\n",
    "import pandas as pd\n",
    "import dateutil\n",
    "from dateutil.parser import isoparse\n",
    "from DirectoryGenerator import DirectoryGenerator\n",
    "from DataReader import readJSONL\n",
    "from datetime import datetime\n",
    "import numpy as np\n",
    "from bs4 import BeautifulSoup\n",
    "import unicodedata\n",
    "import warnings"
   ]
  },
  {
   "cell_type": "code",
   "execution_count": null,
   "metadata": {},
   "outputs": [],
   "source": [
    "dirGen = DirectoryGenerator()"
   ]
  },
  {
   "cell_type": "code",
   "execution_count": null,
   "metadata": {},
   "outputs": [],
   "source": [
    "def convertToStringId(idNum):\n",
    "    return 'id_' + str(idNum)"
   ]
  },
  {
   "cell_type": "code",
   "execution_count": null,
   "metadata": {},
   "outputs": [],
   "source": [
    "def convertToDateTime(date, time):\n",
    "    return datetime.strptime(date + \" \" + time, '%Y-%m-%d %H-%M-%S')"
   ]
  },
  {
   "cell_type": "code",
   "execution_count": null,
   "metadata": {},
   "outputs": [],
   "source": [
    "def convertToDataFrame(canvasFile):\n",
    "    jsonDataItems = readJSONL(canvasFile)\n",
    "    df = pd.DataFrame.from_dict(jsonDataItems)\n",
    "    df['datetime'] = convertToDateTime(canvasFile.split(dirGen.getDelimiter())[-2], canvasFile.split(dirGen.getDelimiter())[-1].split('.')[0])\n",
    "    return df"
   ]
  },
  {
   "cell_type": "code",
   "execution_count": null,
   "metadata": {},
   "outputs": [],
   "source": [
    "def userTypeEventNameAnalysis(canvasFile):\n",
    "    df = convertToDataFrame(canvasFile)\n",
    "    dfAgg = df.groupby(['datetime', 'metadata_context_role', 'metadata_event_name'])['datetime'].count()\n",
    "    result = dfAgg.to_frame(name = 'total').reset_index()\n",
    "    return result"
   ]
  },
  {
   "cell_type": "code",
   "execution_count": null,
   "metadata": {},
   "outputs": [],
   "source": [
    "def loggedInCountAnalysis(canvasFile):\n",
    "    df = convertToDataFrame(canvasFile)\n",
    "    dfLoggedIn = df.loc[df['metadata_event_name'] == \"logged_in\"]\n",
    "    dfAgg = dfLoggedIn.groupby(['datetime'])['datetime'].count()\n",
    "    result = dfAgg.to_frame(name = 'total').reset_index()\n",
    "    return result"
   ]
  },
  {
   "cell_type": "code",
   "execution_count": null,
   "metadata": {},
   "outputs": [],
   "source": [
    "def loggedInCountPerUserAnalysis(canvasFile):\n",
    "    df = convertToDataFrame(canvasFile)\n",
    "    dfLoggedIn = df.loc[df['metadata_event_name'] == \"logged_in\"]\n",
    "    dfAgg = dfLoggedIn.groupby(['datetime', 'metadata_user_id'])['datetime'].count()\n",
    "    result = dfAgg.to_frame(name = 'total').reset_index()\n",
    "    result['metadata_user_id'] = result['metadata_user_id'].apply(convertToStringId)\n",
    "    return result"
   ]
  },
  {
   "cell_type": "code",
   "execution_count": null,
   "metadata": {},
   "outputs": [],
   "source": [
    "def assetCategoryPerContextAnalysis(canvasFile):\n",
    "    try:\n",
    "        df = convertToDataFrame(canvasFile)\n",
    "        dfAssets = df.loc[df['metadata_event_name'] == \"asset_accessed\"]\n",
    "        dfAgg = dfAssets.groupby(['datetime', 'metadata_context_id', 'metadata_context_type', 'body_category'])['datetime'].count()\n",
    "        result = dfAgg.to_frame(name = 'total').reset_index()\n",
    "        result = result.loc[result['metadata_context_type'] == 'Course']\n",
    "        result.drop(['metadata_context_type'], axis = 1, inplace = True)\n",
    "        result['metadata_context_id'] = result['metadata_context_id'].apply(convertToStringId)\n",
    "        return result\n",
    "    except(KeyError):\n",
    "        return pd.DataFrame()"
   ]
  },
  {
   "cell_type": "code",
   "execution_count": null,
   "metadata": {},
   "outputs": [],
   "source": [
    "def userRoleListPerDatetime(canvasFile):\n",
    "    df = convertToDataFrame(canvasFile)\n",
    "    \n",
    "    dfUserRoleList = df.groupby(['datetime', 'metadata_user_id', 'metadata_context_role'])['datetime'].count().to_frame(name = 'total').reset_index()\n",
    "    dfUserRoleList.drop(['total'], axis = 1, inplace = True)\n",
    "    dfUserRoleList['metadata_user_id'] = dfUserRoleList['metadata_user_id'].apply(convertToStringId)\n",
    "    return dfUserRoleList"
   ]
  },
  {
   "cell_type": "code",
   "execution_count": null,
   "metadata": {},
   "outputs": [],
   "source": [
    "def conversationNetworkAnalysis(canvasFile):\n",
    "    try:\n",
    "        df = convertToDataFrame(canvasFile)\n",
    "        dfConversations = df.loc[df['metadata_event_name'] == 'conversation_message_created']\n",
    "    \n",
    "        dfFromTo = dfConversations.groupby(['datetime', 'metadata_user_id', 'body_author_id', 'body_conversation_id'])['datetime'].count().to_frame(name = 'total').reset_index()\n",
    "        dfFromTo['body_author_id'] = dfFromTo['body_author_id'].apply(lambda nodeId: \"auth_\" + str(nodeId))\n",
    "        dfFromTo['body_conversation_id'] = dfFromTo['body_conversation_id'].apply(lambda nodeId: \"conv_\" + str(nodeId))\n",
    "        dfFromTo['metadata_user_id'] = dfFromTo['metadata_user_id'].apply(convertToStringId)\n",
    "        return dfFromTo\n",
    "    except(KeyError):\n",
    "        return pd.DataFrame()"
   ]
  },
  {
   "cell_type": "code",
   "execution_count": null,
   "metadata": {},
   "outputs": [],
   "source": [
    "def courseDiscussionUserEntriesAnalysis(canvasFile):\n",
    "    df = convertToDataFrame(canvasFile)\n",
    "    df = df.loc[df['metadata_event_name'] == \"discussion_entry_created\"]\n",
    "    df = df.loc[df['metadata_context_type'] == 'Course']\n",
    "    dfAgg = df.groupby(['datetime', 'metadata_context_id', 'metadata_context_role', 'metadata_user_id', \"body_discussion_topic_id\", \"body_user_id\"])['datetime'].count()\n",
    "    result = dfAgg.to_frame(name = 'total').reset_index()\n",
    "    result['metadata_context_id'] = result['metadata_context_id'].apply(convertToStringId)\n",
    "    result['metadata_user_id'] = result['metadata_user_id'].apply(convertToStringId)\n",
    "    result['body_discussion_topic_id'] = result['body_discussion_topic_id'].apply(lambda nodeId: \"topic_\" + str(nodeId))\n",
    "    result['body_user_id'] = result['body_user_id'].apply(lambda nodeId: \"user_\" + str(nodeId))\n",
    "    return result"
   ]
  },
  {
   "cell_type": "code",
   "execution_count": null,
   "metadata": {},
   "outputs": [],
   "source": [
    "def courseDiscussionUserEntriesWithRepliesAnalysis(canvasFile):\n",
    "    df = convertToDataFrame(canvasFile)\n",
    "    df = df.loc[df['metadata_event_name'] == \"discussion_entry_created\"]\n",
    "    df = df.loc[df['metadata_context_type'] == 'Course']\n",
    "    \n",
    "    columns = ['datetime', 'metadata_event_name', 'metadata_context_id', 'metadata_context_role', 'metadata_user_id', \"body_discussion_topic_id\", \"body_discussion_entry_id\", \"body_user_id\", \"body_parent_discussion_entry_id\"]\n",
    "    for column in columns:\n",
    "        if column not in df.columns:\n",
    "            df[column] = np.nan\n",
    "    \n",
    "    df = df[columns]\n",
    "    df = df.fillna(value={\"body_parent_discussion_entry_id\": 0})\n",
    "    \n",
    "    result = df\n",
    "    result['metadata_context_id'] = result['metadata_context_id'].apply(convertToStringId)\n",
    "    result['metadata_user_id'] = result['metadata_user_id'].apply(convertToStringId)\n",
    "    result['body_discussion_topic_id'] = result['body_discussion_topic_id'].apply(lambda nodeId: \"topic_\" + str(nodeId))\n",
    "    result['body_user_id'] = result['body_user_id'].apply(lambda nodeId: \"user_\" + str(nodeId))\n",
    "    result[\"body_discussion_entry_id\"] = result[\"body_discussion_entry_id\"].apply(lambda nodeId: \"entry_\" + str(nodeId))\n",
    "    result[\"body_parent_discussion_entry_id\"] = result[\"body_parent_discussion_entry_id\"].apply(lambda nodeId: \"entry_\" + str(nodeId))\n",
    "    return result"
   ]
  },
  {
   "cell_type": "code",
   "execution_count": null,
   "metadata": {},
   "outputs": [],
   "source": [
    "def courseGradedDiscussionUserEntriesAnalysis(canvasFile):\n",
    "    df = convertToDataFrame(canvasFile)\n",
    "    df = df.loc[df['metadata_event_name'] == \"discussion_entry_submitted\"]\n",
    "    df = df.loc[df['metadata_context_type'] == 'Course']\n",
    "    dfAgg = df.groupby(['datetime', 'metadata_context_id', 'metadata_context_role', 'metadata_user_id', \"body_discussion_topic_id\", \"body_user_id\"])['datetime'].count()\n",
    "    result = dfAgg.to_frame(name = 'total').reset_index()\n",
    "    result['metadata_context_id'] = result['metadata_context_id'].apply(convertToStringId)\n",
    "    result['metadata_user_id'] = result['metadata_user_id'].apply(convertToStringId)\n",
    "    result['body_discussion_topic_id'] = result['body_discussion_topic_id'].apply(lambda nodeId: \"topic_\" + str(nodeId))\n",
    "    result['body_user_id'] = result['body_user_id'].apply(lambda nodeId: \"user_\" + str(nodeId))\n",
    "    return result"
   ]
  },
  {
   "cell_type": "code",
   "execution_count": null,
   "metadata": {},
   "outputs": [],
   "source": [
    "def courseGradedDiscussionUserEntriesWithRepliesAnalysis(canvasFile):\n",
    "    df = convertToDataFrame(canvasFile)\n",
    "    df = df.loc[df['metadata_event_name'] == \"discussion_entry_submitted\"]\n",
    "    df = df.loc[df['metadata_context_type'] == 'Course']\n",
    "    \n",
    "    columns = ['datetime', 'metadata_event_name', 'metadata_context_id', 'metadata_context_role', 'metadata_user_id', \"body_assignment_id\", \"body_discussion_topic_id\", \"body_discussion_entry_id\", \"body_submission_id\", \"body_user_id\", \"body_parent_discussion_entry_id\"]\n",
    "    for column in columns:\n",
    "        if column not in df.columns:\n",
    "            df[column] = np.nan\n",
    "    \n",
    "    df = df[columns]\n",
    "    df = df.fillna(value={\"body_parent_discussion_entry_id\": 0, \"body_assignment_id\": 0, \"body_submission_id\": 0})\n",
    "    \n",
    "    result = df\n",
    "    result['metadata_context_id'] = result['metadata_context_id'].apply(convertToStringId)\n",
    "    result['metadata_user_id'] = result['metadata_user_id'].apply(convertToStringId)\n",
    "    result['body_discussion_topic_id'] = result['body_discussion_topic_id'].apply(lambda nodeId: \"topic_\" + str(nodeId))\n",
    "    result['body_user_id'] = result['body_user_id'].apply(lambda nodeId: \"user_\" + str(nodeId))\n",
    "    result[\"body_discussion_entry_id\"] = result[\"body_discussion_entry_id\"].apply(lambda nodeId: \"entry_\" + str(nodeId))\n",
    "    result[\"body_parent_discussion_entry_id\"] = result[\"body_parent_discussion_entry_id\"].apply(lambda nodeId: \"entry_\" + str(nodeId))\n",
    "    result['body_assignment_id'] = result['body_assignment_id'].apply(lambda nodeId: \"assignment_\" + str(nodeId))\n",
    "    result['body_submission_id'] = result['body_submission_id'].apply(lambda nodeId: \"submission_\" + str(nodeId))\n",
    "    return result"
   ]
  },
  {
   "cell_type": "code",
   "execution_count": null,
   "metadata": {},
   "outputs": [],
   "source": [
    "def courseSubmissionGrades(canvasFile):\n",
    "    try:\n",
    "        df = convertToDataFrame(canvasFile)\n",
    "        df = df.loc[df['metadata_event_name'] == \"grade_change\"]\n",
    "        df = df.loc[df['metadata_context_type'] == 'Course']\n",
    "        df = df.loc[df['body_grading_complete'] == True]\n",
    "        df = df.loc[df['body_muted'] == False]\n",
    "        df['metadata_event_time'] = df['metadata_event_time'].apply(isoparse)\n",
    "        df = df[['datetime', 'metadata_event_time', 'metadata_context_id', 'body_assignment_id', \"body_submission_id\", \"body_score\", \"body_points_possible\", \"body_student_id\", \"body_user_id\"]]\n",
    "        dfAgg = df.sort_values(by='metadata_event_time').drop_duplicates(subset=['metadata_context_id', 'body_assignment_id', \"body_submission_id\", \"body_student_id\", \"body_user_id\"], keep=\"last\")\n",
    "        result = dfAgg.reset_index()\n",
    "        result.drop(['index'], axis = 1, inplace = True)\n",
    "        result['metadata_context_id'] = result['metadata_context_id'].apply(convertToStringId)\n",
    "        result['body_user_id'] = result['body_user_id'].apply(lambda nodeId: \"user_\" + str(nodeId))\n",
    "        result['body_assignment_id'] = result['body_assignment_id'].apply(lambda nodeId: \"assignment_\" + str(nodeId))\n",
    "        result['body_submission_id'] = result['body_submission_id'].apply(lambda nodeId: \"submission_\" + str(nodeId))\n",
    "        result['body_student_id'] = result['body_student_id'].apply(lambda nodeId: \"student_\" + str(nodeId))\n",
    "        return result\n",
    "    except(KeyError):\n",
    "        return pd.DataFrame()"
   ]
  },
  {
   "cell_type": "code",
   "execution_count": null,
   "metadata": {},
   "outputs": [],
   "source": [
    "def discussionTopicUpdatedUserRoleCount(canvasFile):\n",
    "    df = convertToDataFrame(canvasFile)\n",
    "    df = df.loc[df['metadata_event_name'] == \"discussion_topic_updated\"]\n",
    "    df = df.loc[df['metadata_context_type'] == 'Course']\n",
    "    result = df.groupby(['datetime', 'metadata_context_role'])['datetime'].count().to_frame('total').reset_index()\n",
    "    return result"
   ]
  },
  {
   "cell_type": "code",
   "execution_count": null,
   "metadata": {},
   "outputs": [],
   "source": [
    "def discussionTopicCreatedUserRoleCount(canvasFile):\n",
    "    df = convertToDataFrame(canvasFile)\n",
    "    df = df.loc[df['metadata_event_name'] == \"discussion_topic_created\"]\n",
    "    df = df.loc[df['metadata_context_type'] == 'Course']\n",
    "    result = df.groupby(['datetime', 'metadata_context_role'])['datetime'].count().to_frame('total').reset_index()\n",
    "    return result"
   ]
  },
  {
   "cell_type": "code",
   "execution_count": null,
   "metadata": {},
   "outputs": [],
   "source": [
    "def discussionTopicCreationUserRoles(canvasFile):\n",
    "    df = convertToDataFrame(canvasFile)\n",
    "    df = df.loc[df['metadata_event_name'] == \"discussion_topic_created\"]\n",
    "    df = df.loc[df['metadata_context_type'] == 'Course']\n",
    "    df['metadata_event_time'] = df['metadata_event_time'].apply(isoparse)\n",
    "    df = df[['datetime', 'metadata_event_time', 'metadata_context_id', 'body_discussion_topic_id', 'metadata_context_role']]\n",
    "    dfAgg = df.sort_values(by='metadata_event_time').drop_duplicates(subset=['metadata_context_id', 'body_discussion_topic_id'])\n",
    "    result = dfAgg.reset_index()\n",
    "    result.drop(['index'], axis = 1, inplace = True)\n",
    "    result['metadata_context_id'] = result['metadata_context_id'].apply(convertToStringId)\n",
    "    result['body_discussion_topic_id'] = result['body_discussion_topic_id'].apply(lambda nodeId: \"topic_\" + str(nodeId))\n",
    "    return result"
   ]
  },
  {
   "cell_type": "code",
   "execution_count": null,
   "metadata": {},
   "outputs": [],
   "source": [
    "def discussionTopicCreationUserRolesV2(canvasFile):\n",
    "    df = convertToDataFrame(canvasFile)\n",
    "    df = df.loc[df['metadata_event_name'] == \"discussion_topic_created\"]\n",
    "    df = df.loc[df['body_context_type'] == 'Course']\n",
    "    df['metadata_event_time'] = df['metadata_event_time'].apply(isoparse)\n",
    "    df = df[['datetime', 'metadata_event_time', 'body_context_id', 'body_discussion_topic_id', 'metadata_context_role']]\n",
    "    dfAgg = df.sort_values(by='metadata_event_time').drop_duplicates(subset=['body_context_id', 'body_discussion_topic_id'])\n",
    "    result = dfAgg.reset_index()\n",
    "    result.drop(['index'], axis = 1, inplace = True)\n",
    "    result['body_context_id'] = result['body_context_id'].apply(lambda idNum: int(idNum) + 165820000000000000)\n",
    "    result['body_context_id'] = result['body_context_id'].apply(convertToStringId)\n",
    "    result['body_discussion_topic_id'] = result['body_discussion_topic_id'].apply(lambda nodeId: \"topic_\" + str(nodeId))\n",
    "    return result"
   ]
  },
  {
   "cell_type": "code",
   "execution_count": null,
   "metadata": {},
   "outputs": [],
   "source": [
    "def discussionTopicCreationUserIDs(canvasFile):\n",
    "    df = convertToDataFrame(canvasFile)\n",
    "    df = df.loc[df['metadata_event_name'] == \"discussion_topic_created\"]\n",
    "    df = df.loc[df['metadata_context_type'] == 'Course']\n",
    "    df['metadata_event_time'] = df['metadata_event_time'].apply(isoparse)\n",
    "    df = df[['datetime', 'metadata_event_time', 'metadata_context_id', 'body_discussion_topic_id', 'metadata_user_id']]\n",
    "    dfAgg = df.sort_values(by='metadata_event_time').drop_duplicates(subset=['metadata_context_id', 'body_discussion_topic_id'])\n",
    "    result = dfAgg.reset_index()\n",
    "    result.drop(['index'], axis = 1, inplace = True)\n",
    "    result['metadata_context_id'] = result['metadata_context_id'].apply(convertToStringId)\n",
    "    result['metadata_user_id'] = result['metadata_user_id'].apply(convertToStringId)\n",
    "    result['body_discussion_topic_id'] = result['body_discussion_topic_id'].apply(lambda nodeId: \"topic_\" + str(nodeId))\n",
    "    return result"
   ]
  },
  {
   "cell_type": "code",
   "execution_count": null,
   "metadata": {},
   "outputs": [],
   "source": [
    "def discussionTopicCreationContents(canvasFile):\n",
    "    def htmlToString(htmlDataRaw):\n",
    "        warnings.filterwarnings(\"ignore\", module='bs4')\n",
    "        htmlData = BeautifulSoup(htmlDataRaw, 'lxml').get_text(strip = True, separator = \" \")\n",
    "        htmlData = unicodedata.normalize(\"NFKD\", htmlData)\n",
    "        htmlData = htmlData.replace(\"\\n\", \" \")\n",
    "        htmlData = htmlData.replace(\"\\t\", \" \")\n",
    "        htmlData = htmlData.replace(\"\\r\", \" \")\n",
    "        htmlData = htmlData.replace(\"\\b\", \"\")\n",
    "        return htmlData\n",
    "    \n",
    "    df = convertToDataFrame(canvasFile)\n",
    "    df = df.loc[df['metadata_event_name'] == \"discussion_topic_created\"]\n",
    "    df = df.loc[df['body_context_type'] == 'Course']\n",
    "    df['metadata_event_time'] = df['metadata_event_time'].apply(isoparse)\n",
    "    df = df[['datetime', 'metadata_event_time', 'body_context_id', 'body_discussion_topic_id', 'body_title', 'body_body']]\n",
    "    dfAgg = df.sort_values(by='metadata_event_time').drop_duplicates(subset=['body_context_id', 'body_discussion_topic_id'])\n",
    "    result = dfAgg.reset_index()\n",
    "    result.drop(['index'], axis = 1, inplace = True)\n",
    "    result['body_context_id'] = result['body_context_id'].apply(convertToStringId)\n",
    "    result['body_discussion_topic_id'] = result['body_discussion_topic_id'].apply(lambda nodeId: \"topic_\" + str(nodeId))\n",
    "    #result['body_title'] = result['body_title'].apply(htmlToString)\n",
    "    #result['body_body'] = result['body_body'].apply(htmlToString)\n",
    "    return result"
   ]
  },
  {
   "cell_type": "code",
   "execution_count": null,
   "metadata": {},
   "outputs": [],
   "source": [
    "def sampleCanvasDataCleanser(canvasFile):\n",
    "    df = convertToDataFrame(canvasFile)\n",
    "    # Some dataframe manipulation algorithms here courtesy of Pandas\n",
    "    result = df\n",
    "    return result"
   ]
  }
 ],
 "metadata": {
  "kernelspec": {
   "display_name": "Python 3 (ipykernel)",
   "language": "python",
   "name": "python3"
  },
  "language_info": {
   "codemirror_mode": {
    "name": "ipython",
    "version": 3
   },
   "file_extension": ".py",
   "mimetype": "text/x-python",
   "name": "python",
   "nbconvert_exporter": "python",
   "pygments_lexer": "ipython3",
   "version": "3.9.13"
  }
 },
 "nbformat": 4,
 "nbformat_minor": 4
}
